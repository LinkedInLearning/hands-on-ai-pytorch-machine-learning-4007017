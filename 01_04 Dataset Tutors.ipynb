{
 "cells": [
  {
   "cell_type": "code",
   "execution_count": 3,
   "id": "9d07ce2f-e7b4-448c-bc6a-ab97dadaed39",
   "metadata": {},
   "outputs": [],
   "source": [
    "import csv\n",
    "import torch\n",
    "import pandas as pd"
   ]
  },
  {
   "cell_type": "code",
   "execution_count": 2,
   "id": "cc00ff75-715f-408a-b58b-01d8cd0de570",
   "metadata": {},
   "outputs": [],
   "source": [
    "Data_path = \"Tutors.csv\""
   ]
  },
  {
   "cell_type": "code",
   "execution_count": 4,
   "id": "9a8b4220-7f19-40d4-9ea6-05c4aa0db194",
   "metadata": {},
   "outputs": [
    {
     "name": "stdout",
     "output_type": "stream",
     "text": [
      "Defaulting to user installation because normal site-packages is not writeable\n",
      "Requirement already satisfied: pandas in /Users/linkedin/Library/Python/3.9/lib/python/site-packages (2.3.2)\n",
      "Requirement already satisfied: numpy>=1.22.4 in /Users/linkedin/Library/Python/3.9/lib/python/site-packages (from pandas) (2.0.2)\n",
      "Requirement already satisfied: python-dateutil>=2.8.2 in /Users/linkedin/Library/Python/3.9/lib/python/site-packages (from pandas) (2.9.0.post0)\n",
      "Requirement already satisfied: pytz>=2020.1 in /Users/linkedin/Library/Python/3.9/lib/python/site-packages (from pandas) (2025.2)\n",
      "Requirement already satisfied: tzdata>=2022.7 in /Users/linkedin/Library/Python/3.9/lib/python/site-packages (from pandas) (2025.2)\n",
      "Requirement already satisfied: six>=1.5 in /Library/Developer/CommandLineTools/Library/Frameworks/Python3.framework/Versions/3.9/lib/python3.9/site-packages (from python-dateutil>=2.8.2->pandas) (1.15.0)\n"
     ]
    }
   ],
   "source": [
    "!Pip3 install pandas"
   ]
  },
  {
   "cell_type": "code",
   "execution_count": 5,
   "id": "a736d106-6451-40c3-9bd4-6a2f980e54d3",
   "metadata": {},
   "outputs": [],
   "source": [
    "df = pd.read_csv(Data_path,nrows=50)"
   ]
  },
  {
   "cell_type": "code",
   "execution_count": 6,
   "id": "cecd72fe-1001-447a-bce2-5181f95d8d11",
   "metadata": {},
   "outputs": [
    {
     "data": {
      "text/html": [
       "<div>\n",
       "<style scoped>\n",
       "    .dataframe tbody tr th:only-of-type {\n",
       "        vertical-align: middle;\n",
       "    }\n",
       "\n",
       "    .dataframe tbody tr th {\n",
       "        vertical-align: top;\n",
       "    }\n",
       "\n",
       "    .dataframe thead th {\n",
       "        text-align: right;\n",
       "    }\n",
       "</style>\n",
       "<table border=\"1\" class=\"dataframe\">\n",
       "  <thead>\n",
       "    <tr style=\"text-align: right;\">\n",
       "      <th></th>\n",
       "      <th>FirstName</th>\n",
       "      <th>LastName</th>\n",
       "      <th>Email</th>\n",
       "      <th>Phone</th>\n",
       "      <th>Gender</th>\n",
       "      <th>SubjectArea</th>\n",
       "      <th>YearsExperience</th>\n",
       "      <th>AgeGroup</th>\n",
       "    </tr>\n",
       "  </thead>\n",
       "  <tbody>\n",
       "    <tr>\n",
       "      <th>0</th>\n",
       "      <td>Alice</td>\n",
       "      <td>Johnson</td>\n",
       "      <td>alice.johnson@example.com</td>\n",
       "      <td>555-123-4567</td>\n",
       "      <td>Female</td>\n",
       "      <td>Math</td>\n",
       "      <td>5</td>\n",
       "      <td>12-18</td>\n",
       "    </tr>\n",
       "    <tr>\n",
       "      <th>1</th>\n",
       "      <td>Brian</td>\n",
       "      <td>Smith</td>\n",
       "      <td>brian.smith@example.com</td>\n",
       "      <td>555-234-5678</td>\n",
       "      <td>Male</td>\n",
       "      <td>Science</td>\n",
       "      <td>8</td>\n",
       "      <td>5-18</td>\n",
       "    </tr>\n",
       "    <tr>\n",
       "      <th>2</th>\n",
       "      <td>Catherine</td>\n",
       "      <td>Brown</td>\n",
       "      <td>catherine.brown@example.com</td>\n",
       "      <td>555-345-6789</td>\n",
       "      <td>Female</td>\n",
       "      <td>English</td>\n",
       "      <td>3</td>\n",
       "      <td>5-12</td>\n",
       "    </tr>\n",
       "    <tr>\n",
       "      <th>3</th>\n",
       "      <td>David</td>\n",
       "      <td>Miller</td>\n",
       "      <td>david.miller@example.com</td>\n",
       "      <td>555-456-7890</td>\n",
       "      <td>Male</td>\n",
       "      <td>History</td>\n",
       "      <td>10</td>\n",
       "      <td>5-18</td>\n",
       "    </tr>\n",
       "    <tr>\n",
       "      <th>4</th>\n",
       "      <td>Ella</td>\n",
       "      <td>Davis</td>\n",
       "      <td>ella.davis@example.com</td>\n",
       "      <td>555-567-8901</td>\n",
       "      <td>Female</td>\n",
       "      <td>Computer Science</td>\n",
       "      <td>6</td>\n",
       "      <td>5-12</td>\n",
       "    </tr>\n",
       "    <tr>\n",
       "      <th>5</th>\n",
       "      <td>Frank</td>\n",
       "      <td>Wilson</td>\n",
       "      <td>frank.wilson@example.com</td>\n",
       "      <td>555-678-9012</td>\n",
       "      <td>Male</td>\n",
       "      <td>Biology</td>\n",
       "      <td>7</td>\n",
       "      <td>12-18</td>\n",
       "    </tr>\n",
       "    <tr>\n",
       "      <th>6</th>\n",
       "      <td>Grace</td>\n",
       "      <td>Taylor</td>\n",
       "      <td>grace.taylor@example.com</td>\n",
       "      <td>555-789-0123</td>\n",
       "      <td>Female</td>\n",
       "      <td>Physics</td>\n",
       "      <td>4</td>\n",
       "      <td>5-18</td>\n",
       "    </tr>\n",
       "    <tr>\n",
       "      <th>7</th>\n",
       "      <td>Henry</td>\n",
       "      <td>Clark</td>\n",
       "      <td>henry.clark@example.com</td>\n",
       "      <td>555-890-1234</td>\n",
       "      <td>Male</td>\n",
       "      <td>Chemistry</td>\n",
       "      <td>12</td>\n",
       "      <td>5-12</td>\n",
       "    </tr>\n",
       "    <tr>\n",
       "      <th>8</th>\n",
       "      <td>Isabella</td>\n",
       "      <td>Lopez</td>\n",
       "      <td>isabella.lopez@example.com</td>\n",
       "      <td>555-901-2345</td>\n",
       "      <td>Female</td>\n",
       "      <td>Art</td>\n",
       "      <td>2</td>\n",
       "      <td>5-18</td>\n",
       "    </tr>\n",
       "    <tr>\n",
       "      <th>9</th>\n",
       "      <td>Jack</td>\n",
       "      <td>Anderson</td>\n",
       "      <td>jack.anderson@example.com</td>\n",
       "      <td>555-012-3456</td>\n",
       "      <td>Male</td>\n",
       "      <td>Economics</td>\n",
       "      <td>9</td>\n",
       "      <td>12-18</td>\n",
       "    </tr>\n",
       "  </tbody>\n",
       "</table>\n",
       "</div>"
      ],
      "text/plain": [
       "   FirstName  LastName                        Email         Phone  Gender  \\\n",
       "0      Alice   Johnson    alice.johnson@example.com  555-123-4567  Female   \n",
       "1      Brian     Smith      brian.smith@example.com  555-234-5678    Male   \n",
       "2  Catherine     Brown  catherine.brown@example.com  555-345-6789  Female   \n",
       "3      David    Miller     david.miller@example.com  555-456-7890    Male   \n",
       "4       Ella     Davis       ella.davis@example.com  555-567-8901  Female   \n",
       "5      Frank    Wilson     frank.wilson@example.com  555-678-9012    Male   \n",
       "6      Grace    Taylor     grace.taylor@example.com  555-789-0123  Female   \n",
       "7      Henry     Clark      henry.clark@example.com  555-890-1234    Male   \n",
       "8   Isabella     Lopez   isabella.lopez@example.com  555-901-2345  Female   \n",
       "9       Jack  Anderson    jack.anderson@example.com  555-012-3456    Male   \n",
       "\n",
       "        SubjectArea  YearsExperience AgeGroup  \n",
       "0              Math                5    12-18  \n",
       "1           Science                8     5-18  \n",
       "2           English                3     5-12  \n",
       "3           History               10     5-18  \n",
       "4  Computer Science                6     5-12  \n",
       "5           Biology                7    12-18  \n",
       "6           Physics                4     5-18  \n",
       "7         Chemistry               12     5-12  \n",
       "8               Art                2     5-18  \n",
       "9         Economics                9    12-18  "
      ]
     },
     "metadata": {},
     "output_type": "display_data"
    }
   ],
   "source": [
    "display(df)"
   ]
  },
  {
   "cell_type": "code",
   "execution_count": 11,
   "id": "144589bd-524f-45c2-99e9-9e77456205f7",
   "metadata": {},
   "outputs": [
    {
     "name": "stdout",
     "output_type": "stream",
     "text": [
      "tensor([ 5,  8,  3, 10,  6,  7,  4, 12,  2,  9])\n"
     ]
    }
   ],
   "source": [
    "import torch.utils.data as data_utils\n",
    "pd.to_numeric(df[\"YearsExperience\"])\n",
    "sessions_df = pd.DataFrame(df['YearsExperience'])\n",
    "train_tensor = torch.tensor(sessions_df['YearsExperience'].values)\n",
    "print(train_tensor)\n"
   ]
  },
  {
   "cell_type": "code",
   "execution_count": null,
   "id": "2af8f1a1-cdb2-4471-bd77-c483ed226a16",
   "metadata": {},
   "outputs": [],
   "source": []
  }
 ],
 "metadata": {
  "kernelspec": {
   "display_name": "Python 3 (ipykernel)",
   "language": "python",
   "name": "python3"
  },
  "language_info": {
   "codemirror_mode": {
    "name": "ipython",
    "version": 3
   },
   "file_extension": ".py",
   "mimetype": "text/x-python",
   "name": "python",
   "nbconvert_exporter": "python",
   "pygments_lexer": "ipython3",
   "version": "3.9.6"
  }
 },
 "nbformat": 4,
 "nbformat_minor": 5
}
