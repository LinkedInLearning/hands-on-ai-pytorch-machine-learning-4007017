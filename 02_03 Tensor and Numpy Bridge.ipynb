{
 "cells": [
  {
   "cell_type": "code",
   "execution_count": 1,
   "id": "0d8be343-fc49-412a-8174-e60364e23df2",
   "metadata": {},
   "outputs": [],
   "source": [
    "import torch"
   ]
  },
  {
   "cell_type": "code",
   "execution_count": 2,
   "id": "db82d199-79ec-4e7c-be41-8f16e4d44d65",
   "metadata": {},
   "outputs": [
    {
     "name": "stdout",
     "output_type": "stream",
     "text": [
      "torch.Size([5, 4])\n",
      "tensor([[2., 2., 2., 2.],\n",
      "        [2., 2., 2., 2.],\n",
      "        [2., 2., 2., 2.],\n",
      "        [2., 2., 2., 2.],\n",
      "        [2., 2., 2., 2.]])\n"
     ]
    }
   ],
   "source": [
    "# broadcasting example 1\n",
    "a = torch.ones(5, 1)     # shape (5, 1)\n",
    "b = torch.ones(1, 4)     # shape (1, 4)\n",
    "c = a + b                # result shape (5, 4)\n",
    "print(c.shape)\n",
    "print(c)"
   ]
  },
  {
   "cell_type": "code",
   "execution_count": 3,
   "id": "87bace2b-ffda-4a32-82a0-b6714615533a",
   "metadata": {},
   "outputs": [
    {
     "name": "stdout",
     "output_type": "stream",
     "text": [
      "torch.Size([4, 3, 2])\n",
      "tensor([[[0.5117, 0.7781],\n",
      "         [0.1607, 0.5141],\n",
      "         [0.0924, 0.3007]],\n",
      "\n",
      "        [[0.5117, 0.7781],\n",
      "         [0.1607, 0.5141],\n",
      "         [0.0924, 0.3007]],\n",
      "\n",
      "        [[0.5117, 0.7781],\n",
      "         [0.1607, 0.5141],\n",
      "         [0.0924, 0.3007]],\n",
      "\n",
      "        [[0.5117, 0.7781],\n",
      "         [0.1607, 0.5141],\n",
      "         [0.0924, 0.3007]]])\n"
     ]
    }
   ],
   "source": [
    "a =     torch.ones(4, 3, 2)\n",
    "# Tensor b has 3rd & 2nd dims identical to a, dim 1 absent\n",
    "b = a * torch.rand(   3, 2) \n",
    "print(b.shape)\n",
    "print(b)"
   ]
  },
  {
   "cell_type": "code",
   "execution_count": 4,
   "id": "ac5172ea-331e-4838-b449-2f33fa24b5f2",
   "metadata": {},
   "outputs": [
    {
     "name": "stdout",
     "output_type": "stream",
     "text": [
      "torch.Size([4, 3, 2])\n",
      "tensor([[[0.7560, 0.7560],\n",
      "         [0.4111, 0.4111],\n",
      "         [0.1826, 0.1826]],\n",
      "\n",
      "        [[0.7560, 0.7560],\n",
      "         [0.4111, 0.4111],\n",
      "         [0.1826, 0.1826]],\n",
      "\n",
      "        [[0.7560, 0.7560],\n",
      "         [0.4111, 0.4111],\n",
      "         [0.1826, 0.1826]],\n",
      "\n",
      "        [[0.7560, 0.7560],\n",
      "         [0.4111, 0.4111],\n",
      "         [0.1826, 0.1826]]])\n"
     ]
    }
   ],
   "source": [
    "# Tensor c has 3rd dim = 1, 2nd dim identical to a\n",
    "c = a * torch.rand(   3, 1)\n",
    "print(c.shape)\n",
    "print(c)"
   ]
  },
  {
   "cell_type": "code",
   "execution_count": null,
   "id": "14e3233d-9679-4097-ad8d-0ebdb0fabbed",
   "metadata": {},
   "outputs": [],
   "source": [
    "# Tensor d has 3rd dim identical to a, 2nd dim = 1\n",
    "d = a * torch.rand(   1, 2)\n",
    "print(d.shape)\n",
    "print(d)"
   ]
  },
  {
   "cell_type": "code",
   "execution_count": 5,
   "id": "2f68f34d-9eb5-4762-acf6-506a5c6b4afb",
   "metadata": {},
   "outputs": [
    {
     "name": "stdout",
     "output_type": "stream",
     "text": [
      "[[1. 1. 1.]\n",
      " [1. 1. 1.]]\n",
      "tensor([[1., 1., 1.],\n",
      "        [1., 1., 1.]], dtype=torch.float64)\n"
     ]
    }
   ],
   "source": [
    "# numpy bridge from numpy to tensor\n",
    "import numpy as np\n",
    "numpy_array = np.ones((2, 3))\n",
    "print(numpy_array)\n",
    "\n",
    "pytorch_tensor = torch.from_numpy(numpy_array)\n",
    "print(pytorch_tensor)\n"
   ]
  },
  {
   "cell_type": "code",
   "execution_count": 6,
   "id": "86b49ca8-2eb0-4c7b-b2b5-86a46eaec70b",
   "metadata": {},
   "outputs": [
    {
     "name": "stdout",
     "output_type": "stream",
     "text": [
      "tensor([[0.8530, 0.5607, 0.8721],\n",
      "        [0.5790, 0.1472, 0.7754]])\n",
      "[[0.85303164 0.56073594 0.87208575]\n",
      " [0.5789896  0.14721131 0.77543503]]\n"
     ]
    }
   ],
   "source": [
    "# reverse example from tensor to numpy\n",
    "pytorch_rand = torch.rand(2, 3)\n",
    "print(pytorch_rand)\n",
    "\n",
    "numpy_rand = pytorch_rand.numpy()\n",
    "print(numpy_rand)\n"
   ]
  },
  {
   "cell_type": "code",
   "execution_count": 7,
   "id": "3c168a0a-d0ee-47e4-952a-6976c03c6be4",
   "metadata": {},
   "outputs": [
    {
     "name": "stdout",
     "output_type": "stream",
     "text": [
      "tensor([[ 1.,  1.,  1.],\n",
      "        [ 1., 23.,  1.]], dtype=torch.float64)\n",
      "[[ 0.85303164  0.56073594  0.87208575]\n",
      " [ 0.5789896  17.          0.77543503]]\n"
     ]
    }
   ],
   "source": [
    "# connected changes \n",
    "numpy_array[1, 1] = 23\n",
    "print(pytorch_tensor)\n",
    "\n",
    "pytorch_rand[1, 1] = 17\n",
    "print(numpy_rand)\n"
   ]
  },
  {
   "cell_type": "code",
   "execution_count": null,
   "id": "cb7c825b-beb7-479f-8650-62f41a9fd225",
   "metadata": {},
   "outputs": [],
   "source": []
  }
 ],
 "metadata": {
  "kernelspec": {
   "display_name": "Python 3 (ipykernel)",
   "language": "python",
   "name": "python3"
  },
  "language_info": {
   "codemirror_mode": {
    "name": "ipython",
    "version": 3
   },
   "file_extension": ".py",
   "mimetype": "text/x-python",
   "name": "python",
   "nbconvert_exporter": "python",
   "pygments_lexer": "ipython3",
   "version": "3.9.6"
  }
 },
 "nbformat": 4,
 "nbformat_minor": 5
}
