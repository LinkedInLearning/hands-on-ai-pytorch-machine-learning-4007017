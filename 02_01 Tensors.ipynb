{
 "cells": [
  {
   "cell_type": "code",
   "execution_count": 1,
   "id": "0624b635-5339-46ff-a067-34adb88d9179",
   "metadata": {},
   "outputs": [
    {
     "name": "stdout",
     "output_type": "stream",
     "text": [
      "tensor(1000)\n",
      "tensor([9, 8, 7, 6])\n",
      "tensor([[1, 2, 3],\n",
      "        [7, 5, 3]])\n"
     ]
    }
   ],
   "source": [
    "# create some tensors\n",
    "\n",
    "import torch\n",
    "\n",
    "t0 = torch.tensor(1000)                     # 0-D tensor\n",
    "t1 = torch.tensor([9, 8, 7, 6])             # 1-D tensor\n",
    "t2 = torch.tensor([[1, 2, 3], [7, 5, 3]])   # 2-D tensor\n",
    "\n",
    "print(t0)\n",
    "print(t1)\n",
    "print(t2)\n"
   ]
  },
  {
   "cell_type": "code",
   "execution_count": 2,
   "id": "0cc50337-480b-4355-8ed6-0a9ae9d83778",
   "metadata": {},
   "outputs": [
    {
     "name": "stdout",
     "output_type": "stream",
     "text": [
      "tensor([[1, 1, 1],\n",
      "        [1, 1, 1]], dtype=torch.int16)\n"
     ]
    }
   ],
   "source": [
    "# set tensor data type\n",
    "a = torch.ones((2, 3), dtype=torch.int16)\n",
    "print(a)"
   ]
  },
  {
   "cell_type": "code",
   "execution_count": 3,
   "id": "35460b10-75be-4ebe-b8d4-ae20db93f158",
   "metadata": {},
   "outputs": [
    {
     "name": "stdout",
     "output_type": "stream",
     "text": [
      "tensor([[1., 1., 1.],\n",
      "        [1., 1., 1.]])\n"
     ]
    }
   ],
   "source": [
    "# cast to a different data type\n",
    "b = a.to(dtype=torch.float32)\n",
    "print(b)"
   ]
  },
  {
   "cell_type": "code",
   "execution_count": 4,
   "id": "8703e381-2a93-4ca9-bb72-7ad66129f4fc",
   "metadata": {},
   "outputs": [
    {
     "name": "stdout",
     "output_type": "stream",
     "text": [
      "torch.Size([4])\n",
      "torch.Size([2, 3])\n"
     ]
    }
   ],
   "source": [
    "# check size \n",
    "print(t1.size())\n",
    "print(t2.shape)"
   ]
  },
  {
   "cell_type": "code",
   "execution_count": 5,
   "id": "4bfdf847-61c1-4856-b489-070dbdae65f2",
   "metadata": {},
   "outputs": [
    {
     "name": "stdout",
     "output_type": "stream",
     "text": [
      "1\n",
      "2\n"
     ]
    }
   ],
   "source": [
    "# check dimensionality\n",
    "print(t1.ndimension())\n",
    "print(t2.ndim)"
   ]
  },
  {
   "cell_type": "code",
   "execution_count": null,
   "id": "16f68cab-9e90-4336-8eea-749d53eeda21",
   "metadata": {},
   "outputs": [],
   "source": []
  }
 ],
 "metadata": {
  "kernelspec": {
   "display_name": "Python 3 (ipykernel)",
   "language": "python",
   "name": "python3"
  },
  "language_info": {
   "codemirror_mode": {
    "name": "ipython",
    "version": 3
   },
   "file_extension": ".py",
   "mimetype": "text/x-python",
   "name": "python",
   "nbconvert_exporter": "python",
   "pygments_lexer": "ipython3",
   "version": "3.9.6"
  }
 },
 "nbformat": 4,
 "nbformat_minor": 5
}
