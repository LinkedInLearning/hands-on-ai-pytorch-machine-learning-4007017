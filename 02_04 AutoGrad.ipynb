{
 "cells": [
  {
   "cell_type": "code",
   "execution_count": 1,
   "id": "a17483d3-b3ac-4ede-af4d-2b57c258b541",
   "metadata": {},
   "outputs": [],
   "source": [
    "import torch\n",
    "from torch.autograd import Variable"
   ]
  },
  {
   "cell_type": "code",
   "execution_count": 2,
   "id": "0a9bb66a-eeca-4134-b33b-7406b3613c5b",
   "metadata": {},
   "outputs": [
    {
     "name": "stdout",
     "output_type": "stream",
     "text": [
      "<AddBackward0 object at 0x1087463e0>\n"
     ]
    }
   ],
   "source": [
    "# Step 1: forward pass\n",
    "# create a tensor with autoGrad turned on\n",
    "x = torch.tensor([2.0], requires_grad=True)  # leaf tensor\n",
    "# conduct tensor operation \n",
    "y = x**2 + 3*x\n",
    "print(y.grad_fn)  # function that created the tensor"
   ]
  },
  {
   "cell_type": "code",
   "execution_count": 3,
   "id": "0e387491-9db3-49bd-bd50-f38819b724b5",
   "metadata": {},
   "outputs": [],
   "source": [
    "# Step 2: Backward Pass — Compute Gradients\n",
    "y.backward()"
   ]
  },
  {
   "cell_type": "code",
   "execution_count": 4,
   "id": "13768168-6b2b-47b6-947d-34442d706e78",
   "metadata": {},
   "outputs": [
    {
     "name": "stdout",
     "output_type": "stream",
     "text": [
      "tensor([7.])\n"
     ]
    }
   ],
   "source": [
    "# Step 3: \n",
    "print(x.grad)"
   ]
  },
  {
   "cell_type": "code",
   "execution_count": 5,
   "id": "986eb14c-fc45-4d66-a345-648e975fce58",
   "metadata": {},
   "outputs": [],
   "source": [
    "# PyTorch Autograd Computation Graph Demo\n",
    "# Visualizes how PyTorch builds the computation graph and computes gradients\n",
    "\n",
    "import torchviz"
   ]
  },
  {
   "cell_type": "code",
   "execution_count": 6,
   "id": "91bbd782-3f7c-4a65-ae5a-a96385901471",
   "metadata": {},
   "outputs": [],
   "source": [
    "# Create input tensors with gradient tracking\n",
    "a = torch.tensor(2.0, requires_grad=True)\n",
    "b = torch.tensor(3.0, requires_grad=True)"
   ]
  },
  {
   "cell_type": "code",
   "execution_count": 7,
   "id": "2eab8467-73bf-4f97-a57e-3cf41e6ce640",
   "metadata": {},
   "outputs": [],
   "source": [
    "# Define a computation graph\n",
    "x = a * b        # x = 2 * 3 = 6\n",
    "y = x + b        # y = 6 + 3 = 9\n",
    "z = y ** 2       # z = 9^2 = 81"
   ]
  },
  {
   "cell_type": "code",
   "execution_count": 8,
   "id": "6c8df4eb-bc12-4c72-8b35-2e7e0e288642",
   "metadata": {},
   "outputs": [],
   "source": [
    "# Backpropagate from z\n",
    "z.backward()"
   ]
  },
  {
   "cell_type": "code",
   "execution_count": 9,
   "id": "8071de9f-fc2f-4828-8bd3-64d50516007e",
   "metadata": {},
   "outputs": [
    {
     "name": "stdout",
     "output_type": "stream",
     "text": [
      "\n",
      "Gradients:\n",
      "dz/da = tensor(54.)\n",
      "dz/db = tensor(54.)\n"
     ]
    }
   ],
   "source": [
    "# Print gradients\n",
    "torch.set_printoptions(precision=2)\n",
    "print(\"\\nGradients:\")\n",
    "print(\"dz/da =\", a.grad)   # Expected: dz/dy * dy/dx * dx/da = 2*y * 1 * b\n",
    "print(\"dz/db =\", b.grad)   # dz/dy * dy/db + dz/dy * dy/dx * dx/db = 2*y * (1 + a)"
   ]
  },
  {
   "cell_type": "code",
   "execution_count": 10,
   "id": "5056b190-f35c-4b05-9fa9-96e22a60ce41",
   "metadata": {},
   "outputs": [
    {
     "data": {
      "text/plain": [
       "'autograd_graph.png'"
      ]
     },
     "execution_count": 10,
     "metadata": {},
     "output_type": "execute_result"
    }
   ],
   "source": [
    "# visualize the graph (requires graphviz installed)\n",
    "from torchviz import make_dot\n",
    "make_dot(z, params={\"a\": a, \"b\": b}).render(\"autograd_graph\", format=\"png\")"
   ]
  },
  {
   "cell_type": "code",
   "execution_count": null,
   "id": "85681bae-ecdd-49de-990d-6f37bc17db17",
   "metadata": {},
   "outputs": [],
   "source": []
  }
 ],
 "metadata": {
  "kernelspec": {
   "display_name": "Python 3 (ipykernel)",
   "language": "python",
   "name": "python3"
  },
  "language_info": {
   "codemirror_mode": {
    "name": "ipython",
    "version": 3
   },
   "file_extension": ".py",
   "mimetype": "text/x-python",
   "name": "python",
   "nbconvert_exporter": "python",
   "pygments_lexer": "ipython3",
   "version": "3.11.4"
  }
 },
 "nbformat": 4,
 "nbformat_minor": 5
}
