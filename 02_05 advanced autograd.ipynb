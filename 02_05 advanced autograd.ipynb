{
 "cells": [
  {
   "cell_type": "code",
   "execution_count": 1,
   "id": "3abaf3e2-16e4-45ce-88eb-9ea66e1c05ec",
   "metadata": {},
   "outputs": [
    {
     "name": "stdout",
     "output_type": "stream",
     "text": [
      "dy/dx = tensor([12.])\n"
     ]
    }
   ],
   "source": [
    "# autograd.grad() - Gradient without .backward() \n",
    "\n",
    "import torch\n",
    "x = torch.tensor([2.0], requires_grad=True)\n",
    "y = x ** 3\n",
    "\n",
    "grad = torch.autograd.grad(y, x)  # Returns (3x²,) → (12.0,)\n",
    "print(\"dy/dx =\", grad[0])         # tensor([12.])\n"
   ]
  },
  {
   "cell_type": "code",
   "execution_count": 2,
   "id": "1a321ab0-aaa9-4f1b-afc0-f8649014e5de",
   "metadata": {},
   "outputs": [
    {
     "name": "stdout",
     "output_type": "stream",
     "text": [
      "Second derivative: tensor([12.])\n"
     ]
    }
   ],
   "source": [
    "# Higher-Order Gradients (grad of a grad, Second derivative)\n",
    "x = torch.tensor([2.0], requires_grad=True)\n",
    "y = x**3       # dy/dx = 3x² = 12\n",
    "\n",
    "# First derivative\n",
    "dy_dx = torch.autograd.grad(y, x, create_graph=True)[0]\n",
    "\n",
    "# Second derivative (d²y/dx² = 6x = 12)\n",
    "d2y_dx2 = torch.autograd.grad(dy_dx, x)[0]\n",
    "\n",
    "print(\"Second derivative:\", d2y_dx2)  # tensor([12.])\n"
   ]
  },
  {
   "cell_type": "code",
   "execution_count": 3,
   "id": "32cb8fc9-1240-4651-9bd1-5d4de0da59c8",
   "metadata": {},
   "outputs": [
    {
     "name": "stdout",
     "output_type": "stream",
     "text": [
      "Custom grad: tensor([6.])\n"
     ]
    }
   ],
   "source": [
    "# Custom Autograd function - manually define the forward and backward passes of a function \n",
    "\n",
    "# Define Square with custom backward\n",
    "\n",
    "from torch.autograd import Function\n",
    "\n",
    "class Square(Function):\n",
    "    @staticmethod\n",
    "    def forward(ctx, input):\n",
    "        ctx.save_for_backward(input)\n",
    "        return input ** 2\n",
    "\n",
    "    @staticmethod\n",
    "    def backward(ctx, grad_output):\n",
    "        input, = ctx.saved_tensors\n",
    "        return grad_output * 2 * input\n",
    "\n",
    "x = torch.tensor([3.0], requires_grad=True)\n",
    "square = Square.apply\n",
    "y = square(x)\n",
    "y.backward()\n",
    "print(\"Custom grad:\", x.grad)  # Should be 2 * 3 = 6\n"
   ]
  },
  {
   "cell_type": "code",
   "execution_count": 4,
   "id": "0f7edb62-9a07-497c-9c3f-a979de30b270",
   "metadata": {},
   "outputs": [
    {
     "name": "stdout",
     "output_type": "stream",
     "text": [
      "Hessian matrix:\n",
      " tensor([[ 2.,  0.],\n",
      "        [ 0., 12.]])\n"
     ]
    }
   ],
   "source": [
    "# Compute Jacobian and Hessian\n",
    "\n",
    "from torch.autograd.functional import hessian\n",
    "\n",
    "def f(x):\n",
    "    return (x[0] ** 2 + x[1] ** 3)\n",
    "\n",
    "x = torch.tensor([1.0, 2.0], requires_grad=True)\n",
    "hess = hessian(f, x)\n",
    "print(\"Hessian matrix:\\n\", hess)\n"
   ]
  },
  {
   "cell_type": "code",
   "execution_count": 5,
   "id": "98c48759-4d4c-40ff-882a-69b6eaf49cc7",
   "metadata": {},
   "outputs": [
    {
     "name": "stdout",
     "output_type": "stream",
     "text": [
      "Gradient flowing through: tensor([7.])\n"
     ]
    }
   ],
   "source": [
    "# Hooks - inspect or modify gradients\n",
    "# Print gradient as it flows\n",
    "\n",
    "x = torch.tensor([2.0], requires_grad=True)\n",
    "\n",
    "def print_grad(grad):\n",
    "    print(\"Gradient flowing through:\", grad)\n",
    "\n",
    "x.register_hook(print_grad)\n",
    "\n",
    "y = x**2 + 3*x\n",
    "y.backward()\n"
   ]
  },
  {
   "cell_type": "code",
   "execution_count": null,
   "id": "2a204a4c-d1bb-4d81-888b-24e053fbb6ed",
   "metadata": {},
   "outputs": [],
   "source": []
  }
 ],
 "metadata": {
  "kernelspec": {
   "display_name": "Python 3 (ipykernel)",
   "language": "python",
   "name": "python3"
  },
  "language_info": {
   "codemirror_mode": {
    "name": "ipython",
    "version": 3
   },
   "file_extension": ".py",
   "mimetype": "text/x-python",
   "name": "python",
   "nbconvert_exporter": "python",
   "pygments_lexer": "ipython3",
   "version": "3.9.6"
  }
 },
 "nbformat": 4,
 "nbformat_minor": 5
}
